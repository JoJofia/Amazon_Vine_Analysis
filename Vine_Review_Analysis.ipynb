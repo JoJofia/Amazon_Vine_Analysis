{
  "nbformat": 4,
  "nbformat_minor": 0,
  "metadata": {
    "colab": {
      "name": "Vine_Review_Analysis.ipynb",
      "provenance": []
    },
    "kernelspec": {
      "name": "python3",
      "display_name": "Python 3"
    },
    "language_info": {
      "name": "python"
    }
  },
  "cells": [
    {
      "cell_type": "code",
      "execution_count": 1,
      "metadata": {
        "colab": {
          "base_uri": "https://localhost:8080/"
        },
        "id": "WX4e5Z01inW-",
        "outputId": "b7fa1cf6-2e96-4a14-a163-8e0c226a6935"
      },
      "outputs": [
        {
          "output_type": "stream",
          "name": "stdout",
          "text": [
            "\r0% [Working]\r            \rGet:1 https://developer.download.nvidia.com/compute/cuda/repos/ubuntu1804/x86_64  InRelease [1,581 B]\n",
            "Get:2 https://cloud.r-project.org/bin/linux/ubuntu bionic-cran40/ InRelease [3,626 B]\n",
            "Get:3 http://security.ubuntu.com/ubuntu bionic-security InRelease [88.7 kB]\n",
            "Ign:4 https://developer.download.nvidia.com/compute/machine-learning/repos/ubuntu1804/x86_64  InRelease\n",
            "Get:5 http://ppa.launchpad.net/c2d4u.team/c2d4u4.0+/ubuntu bionic InRelease [15.9 kB]\n",
            "Hit:6 http://archive.ubuntu.com/ubuntu bionic InRelease\n",
            "Get:7 https://developer.download.nvidia.com/compute/cuda/repos/ubuntu1804/x86_64  Packages [806 kB]\n",
            "Hit:8 https://developer.download.nvidia.com/compute/machine-learning/repos/ubuntu1804/x86_64  Release\n",
            "Get:9 http://archive.ubuntu.com/ubuntu bionic-updates InRelease [88.7 kB]\n",
            "Hit:10 http://ppa.launchpad.net/cran/libgit2/ubuntu bionic InRelease\n",
            "Get:12 http://archive.ubuntu.com/ubuntu bionic-backports InRelease [74.6 kB]\n",
            "Get:13 http://ppa.launchpad.net/deadsnakes/ppa/ubuntu bionic InRelease [15.9 kB]\n",
            "Get:14 http://ppa.launchpad.net/graphics-drivers/ppa/ubuntu bionic InRelease [21.3 kB]\n",
            "Get:15 http://security.ubuntu.com/ubuntu bionic-security/main amd64 Packages [2,830 kB]\n",
            "Get:16 http://ppa.launchpad.net/c2d4u.team/c2d4u4.0+/ubuntu bionic/main Sources [1,992 kB]\n",
            "Get:17 http://archive.ubuntu.com/ubuntu bionic-updates/universe amd64 Packages [2,290 kB]\n",
            "Get:18 http://security.ubuntu.com/ubuntu bionic-security/universe amd64 Packages [1,515 kB]\n",
            "Get:19 http://security.ubuntu.com/ubuntu bionic-security/restricted amd64 Packages [982 kB]\n",
            "Get:20 http://archive.ubuntu.com/ubuntu bionic-updates/restricted amd64 Packages [1,015 kB]\n",
            "Get:21 http://archive.ubuntu.com/ubuntu bionic-updates/main amd64 Packages [3,262 kB]\n",
            "Get:22 http://ppa.launchpad.net/c2d4u.team/c2d4u4.0+/ubuntu bionic/main amd64 Packages [1,021 kB]\n",
            "Get:23 http://ppa.launchpad.net/deadsnakes/ppa/ubuntu bionic/main amd64 Packages [45.3 kB]\n",
            "Get:24 http://ppa.launchpad.net/graphics-drivers/ppa/ubuntu bionic/main amd64 Packages [47.7 kB]\n",
            "Fetched 16.1 MB in 8s (1,998 kB/s)\n",
            "Reading package lists... Done\n"
          ]
        }
      ],
      "source": [
        "import os\n",
        "# Find the latest version of spark 3.0 from http://www.apache.org/dist/spark/ and enter as the spark version\n",
        "# For example:\n",
        "# spark_version = 'spark-3.0.3'\n",
        "spark_version = 'spark-3.2.1'\n",
        "os.environ['SPARK_VERSION']=spark_version\n",
        "\n",
        "# Install Spark and Java\n",
        "!apt-get update\n",
        "!apt-get install openjdk-11-jdk-headless -qq > /dev/null\n",
        "!wget -q http://www.apache.org/dist/spark/$SPARK_VERSION/$SPARK_VERSION-bin-hadoop2.7.tgz\n",
        "!tar xf $SPARK_VERSION-bin-hadoop2.7.tgz\n",
        "!pip install -q findspark\n",
        "\n",
        "# Set Environment Variables\n",
        "import os\n",
        "os.environ[\"JAVA_HOME\"] = \"/usr/lib/jvm/java-11-openjdk-amd64\"\n",
        "os.environ[\"SPARK_HOME\"] = f\"/content/{spark_version}-bin-hadoop2.7\"\n",
        "\n",
        "# Start a SparkSession\n",
        "import findspark\n",
        "findspark.init()"
      ]
    },
    {
      "cell_type": "code",
      "source": [
        "# Download the Postgres driver that will allow Spark to interact with Postgres.\n",
        "!wget https://jdbc.postgresql.org/download/postgresql-42.2.16.jar"
      ],
      "metadata": {
        "colab": {
          "base_uri": "https://localhost:8080/"
        },
        "id": "pULYd_EsjTeA",
        "outputId": "1fbeac1b-ec7f-4ca1-8956-b265c2d93d5a"
      },
      "execution_count": 2,
      "outputs": [
        {
          "output_type": "stream",
          "name": "stdout",
          "text": [
            "--2022-06-13 05:42:26--  https://jdbc.postgresql.org/download/postgresql-42.2.16.jar\n",
            "Resolving jdbc.postgresql.org (jdbc.postgresql.org)... 72.32.157.228, 2001:4800:3e1:1::228\n",
            "Connecting to jdbc.postgresql.org (jdbc.postgresql.org)|72.32.157.228|:443... connected.\n",
            "HTTP request sent, awaiting response... 200 OK\n",
            "Length: 1002883 (979K) [application/java-archive]\n",
            "Saving to: ‘postgresql-42.2.16.jar’\n",
            "\n",
            "postgresql-42.2.16. 100%[===================>] 979.38K  1.22MB/s    in 0.8s    \n",
            "\n",
            "2022-06-13 05:42:28 (1.22 MB/s) - ‘postgresql-42.2.16.jar’ saved [1002883/1002883]\n",
            "\n"
          ]
        }
      ]
    },
    {
      "cell_type": "code",
      "source": [
        "from pyspark.sql import SparkSession\n",
        "spark = SparkSession.builder.appName(\"M16-Amazon-Challenge\").config(\"spark.driver.extraClassPath\",\"/content/postgresql-42.2.16.jar\").getOrCreate()"
      ],
      "metadata": {
        "id": "o6dRstGYjUHl"
      },
      "execution_count": 3,
      "outputs": []
    },
    {
      "cell_type": "code",
      "source": [
        "from pyspark import SparkFiles\n",
        "url = \"https://s3.amazonaws.com/amazon-reviews-pds/tsv/amazon_reviews_us_Software_v1_00.tsv.gz\"\n",
        "spark.sparkContext.addFile(url)\n",
        "df = spark.read.option(\"encoding\", \"UTF-8\").csv(SparkFiles.get(\"amazon_reviews_us_Software_v1_00.tsv.gz\"), sep=\"\\t\", header=True, inferSchema=True)\n",
        "df.show()"
      ],
      "metadata": {
        "colab": {
          "base_uri": "https://localhost:8080/"
        },
        "id": "_yeJndHOjWBu",
        "outputId": "7a962c44-667c-4464-8007-e564395dad7e"
      },
      "execution_count": 4,
      "outputs": [
        {
          "output_type": "stream",
          "name": "stdout",
          "text": [
            "+-----------+-----------+--------------+----------+--------------+--------------------+----------------+-----------+-------------+-----------+----+-----------------+--------------------+--------------------+-----------+\n",
            "|marketplace|customer_id|     review_id|product_id|product_parent|       product_title|product_category|star_rating|helpful_votes|total_votes|vine|verified_purchase|     review_headline|         review_body|review_date|\n",
            "+-----------+-----------+--------------+----------+--------------+--------------------+----------------+-----------+-------------+-----------+----+-----------------+--------------------+--------------------+-----------+\n",
            "|         US|   42605767|R3EFW2STIYIY0I|B00MUTIDKI|     248732228|McAfee 2015 Inter...|        Software|          1|            2|          2|   N|                Y|I was very disapp...|I was very disapp...| 2015-08-31|\n",
            "|         US|   51771800|R12NR0R5A9F7FT|B00EPACNUG|     531462352|Hallmark Card Stu...|        Software|          5|            0|          0|   N|                Y|          Five Stars|I had a little st...| 2015-08-31|\n",
            "|         US|   16053526|R1LSH74R9XAP59|B00164AZA4|     473982505| Search and Rescue 4|        Software|          2|            0|          1|   N|                Y|    Have windows 10?|Tried to download...| 2015-08-31|\n",
            "|         US|   15319481|R1QXUNTF76K7L6|B00E6LIEFM|     189774198|      Quickbooks Pro|        Software|          2|            0|          0|   N|                Y|Disc was corrupt,...|Disc was corrupt,...| 2015-08-31|\n",
            "|         US|    1441820|R2F7DR75PS8NKT|B00VWEBG06|     852470365|Windows 7 Profess...|        Software|          5|            0|          0|   N|                Y|          Five Stars|Just what I neede...| 2015-08-31|\n",
            "|         US|   37107850|R2C1DJSCC8UFS6|B00EP7AP7C|     279360628|Family Tree Maker...|        Software|          3|            0|          0|   N|                Y|         Three Stars|Didn't like havin...| 2015-08-31|\n",
            "|         US|     302120|R1AXGS1W4YFXMX|B00OW2PET4|     729971168|World of Farming:...|        Software|          1|            0|          2|   N|                Y|            One Star|it does not work ...| 2015-08-31|\n",
            "|         US|   20193077|R1XU1B93402SYJ|B00N4OLCRO|     776572654|Photoshop Element...|        Software|          1|            1|          1|   N|                Y|Can't load to my ...|I have tried for ...| 2015-08-31|\n",
            "|         US|   13106017|R2U432NB3OPVR0|B005CELN8W|     222071424|Phantom EFX WMS S...|        Software|          5|            0|          0|   N|                Y|          Five Stars|       love the game| 2015-08-31|\n",
            "|         US|   32587108|R3R6FIMIOQ5SP9|B005CELL1G|     168801430|PaperPort Profess...|        Software|          5|            0|          0|   N|                Y|Meets our small b...|Great software. A...| 2015-08-31|\n",
            "|         US|   32020017|R12TX6V09C9QNQ|B00H09BOXQ|     455502995|Windows 7 Profess...|        Software|          5|            0|          0|   N|                Y|          Five Stars|             Awesome| 2015-08-31|\n",
            "|         US|   13376158|R33UCII6YKUMKV|B00MCLGAAO|     652069521| QuickBooks Pro 2015|        Software|          3|            2|          2|   N|                Y|Nothing New in Th...|To start this rev...| 2015-08-31|\n",
            "|         US|   47098110| RZKDAB9TGO053|B00P6U8C5Y|     871602905|Block Financial H...|        Software|          1|            0|          0|   N|                Y|Missing key infor...|Some key provisio...| 2015-08-31|\n",
            "|         US|   24083274|R2EMN2EEDN73ZA|B00MA5TPN6|     299038085|Parallels Desktop...|        Software|          4|            0|          0|   N|                Y|Probably the best...|Probably the best...| 2015-08-31|\n",
            "|         US|   41137196| RU9LHN1NJDVOI|B000EQ868I|     534229510|Cosmi Print Perfe...|        Software|          5|            0|          0|   N|                Y|          Five Stars|I was pleased wit...| 2015-08-31|\n",
            "|         US|   18003829|R19910SO17BQUE|B00MYXTCMI|      42668324|TurboTax Business...|        Software|          5|            0|          0|   N|                Y|... what it is su...|This program does...| 2015-08-31|\n",
            "|         US|   14460749|R32N10BW8MH847|B008PIQXP0|     116724371|I.R.I.S. Readiris...|        Software|          4|            2|          4|   N|                Y|          Four Stars|Again it should h...| 2015-08-31|\n",
            "|         US|   12641855| R2DNM85DH7FGK|B00KAFOXXU|     471261945|Finale PrintMusic...|        Software|          5|            0|          2|   N|                Y|          Five Stars|               great| 2015-08-31|\n",
            "|         US|   13775565|R2G9RFFW051RWY|B00OKSOLE4|     694520847|Microsoft Office ...|        Software|          5|            0|          0|   N|                Y|          Five Stars|        Easy to use.| 2015-08-31|\n",
            "|         US|   31044774|R26CC1STPSUHBS|B01019T6O0|     510976915|Microsoft Windows...|        Software|          1|           27|         39|   N|                N|Do NOT take the \"...|Do NOT take the &...| 2015-08-31|\n",
            "+-----------+-----------+--------------+----------+--------------+--------------------+----------------+-----------+-------------+-----------+----+-----------------+--------------------+--------------------+-----------+\n",
            "only showing top 20 rows\n",
            "\n"
          ]
        }
      ]
    },
    {
      "cell_type": "code",
      "source": [
        "df_votes_filter = df.filter(df.total_votes >= 20)\n",
        "df_votes_filter.show()"
      ],
      "metadata": {
        "colab": {
          "base_uri": "https://localhost:8080/"
        },
        "id": "8zGaxjQDjqai",
        "outputId": "6ebc07b9-0ed5-4518-a01f-736c31c3bc96"
      },
      "execution_count": 5,
      "outputs": [
        {
          "output_type": "stream",
          "name": "stdout",
          "text": [
            "+-----------+-----------+--------------+----------+--------------+--------------------+----------------+-----------+-------------+-----------+----+-----------------+--------------------+--------------------+-----------+\n",
            "|marketplace|customer_id|     review_id|product_id|product_parent|       product_title|product_category|star_rating|helpful_votes|total_votes|vine|verified_purchase|     review_headline|         review_body|review_date|\n",
            "+-----------+-----------+--------------+----------+--------------+--------------------+----------------+-----------+-------------+-----------+----+-----------------+--------------------+--------------------+-----------+\n",
            "|         US|   31044774|R26CC1STPSUHBS|B01019T6O0|     510976915|Microsoft Windows...|        Software|          1|           27|         39|   N|                N|Do NOT take the \"...|Do NOT take the &...| 2015-08-31|\n",
            "|         US|   51362864| R7K83D59T9KWS|B00ZSI7Y3U|     604043733|Microsoft Windows...|        Software|          1|           16|         26|   N|                N|Works Great As Sp...|I had to uninstal...| 2015-08-30|\n",
            "|         US|   51362864|R2ATG5BPVILHUM|B01019T6O0|     510976915|Microsoft Windows...|        Software|          1|           16|         25|   N|                N|Works Great As Sp...|I had to uninstal...| 2015-08-30|\n",
            "|         US|    8607300|R1Q71TAM5ZOYTK|B01019T6O0|     510976915|Microsoft Windows...|        Software|          3|           57|         61|   N|                N|u dont get a wind...|My windows 7 home...| 2015-08-29|\n",
            "|         US|   36244744| RR8HYI7C2XKMU|B00SXZBLXE|     153819259|Mixcraft Pro Stud...|        Software|          5|           25|         25|   N|                Y|More professional...|This is no baby s...| 2015-08-28|\n",
            "|         US|   43577240|R1VDCSJE4CJJIR|B00VWCKJVA|     688031680|         Lightroom 6|        Software|          1|           88|         97|   N|                Y|      Complete Scam!|I've posted a rev...| 2015-08-27|\n",
            "|         US|   50521412|R2PZMSDKOO1Q6W|B00ZSHDJ4O|     290929234|Microsoft Windows...|        Software|          1|           29|         43|   N|                Y|Microsoft has got...|Microsoft has got...| 2015-08-26|\n",
            "|         US|   48775338|R39OOYN0DOLINK|B01019T6O0|     510976915|Microsoft Windows...|        Software|          3|           91|        111|   N|                N|You can minimize ...|After upgrading (...| 2015-08-25|\n",
            "|         US|   35082889|R1PLNHJZ8BKIBG|B00LX4BZAQ|     484797539|Dragon NaturallyS...|        Software|          1|           44|         46|   N|                Y|False Advertising...|I bought this pro...| 2015-08-25|\n",
            "|         US|    4317411|R14G4YQXL17REH|B00ZSI7Y3U|     604043733|Microsoft Windows...|        Software|          1|            4|         28|   N|                N|     MICROSOFT DEAD!|after the bad exp...| 2015-08-25|\n",
            "|         US|   11251916|R3UTVKJF44E0R6|B00ZSHDJ4O|     290929234|Microsoft Windows...|        Software|          1|           46|         69|   N|                N|Way beyond snooping!|Windows 10<br /><...| 2015-08-24|\n",
            "|         US|   51067712| R2J71KOOLF9UB|B00UN8POM8|     220690061|Home Designer Sui...|        Software|          1|            5|         20|   N|                Y|               Sucks|This product shou...| 2015-08-23|\n",
            "|         US|   50365571|R2CAD5FOVMTR2L|B01019TFVY|     532233604|Microsoft Windows...|        Software|          2|           17|         28|   N|                N|Bad in Any Language.|Windows 10 was de...| 2015-08-23|\n",
            "|         US|   25166029|R2SW9V1EDQH6O7|B000NRY05G|     533940081|Microsoft Windows 95|        Software|          5|           27|         29|   N|                N|Good upgrade over...|I've upgraded to ...| 2015-08-23|\n",
            "|         US|   13162359|R3SI1TZD809Y0T|B010MZ91SO|      29881971|Microsoft Office ...|        Software|          5|           24|         24|   N|                Y|         Great Deal!|The CD was as pro...| 2015-08-21|\n",
            "|         US|   16751752|R23WY4HVMD8SY3|B01019T6O0|     510976915|Microsoft Windows...|        Software|          1|            7|         24|   N|                N|IT'S TIME FOR AN ...|I have been a loy...| 2015-08-21|\n",
            "|         US|   30650271|R2V0VLBRWCMX3I|B00VWCKJVA|     688031680|         Lightroom 6|        Software|          1|          563|        601|   N|                N|Be aware of the s...|Buyer Beware!  I ...| 2015-08-21|\n",
            "|         US|   26256430| R34R79B2P5DJD|B01019T6O0|     510976915|Microsoft Windows...|        Software|          1|           87|        112|   N|                N|  Terrible OS, again|I have been runni...| 2015-08-21|\n",
            "|         US|   17762999| R4D6AQ86X5RQG|B00OM6SKH8|     430638075|DeLorme Street At...|        Software|          1|           22|         26|   N|                N|Don't buy it - he...|If you’re after t...| 2015-08-20|\n",
            "|         US|   35255215|R1BSZ4PB99TN8D|B01019T6O0|     510976915|Microsoft Windows...|        Software|          1|           61|         90|   N|                N|Stay Away From Wi...|Buyer beware!  I ...| 2015-08-20|\n",
            "+-----------+-----------+--------------+----------+--------------+--------------------+----------------+-----------+-------------+-----------+----+-----------------+--------------------+--------------------+-----------+\n",
            "only showing top 20 rows\n",
            "\n"
          ]
        }
      ]
    },
    {
      "cell_type": "code",
      "source": [
        "helpful_votes_df = df_votes_filter.filter(df_votes_filter.helpful_votes/df_votes_filter.total_votes >= 0.5)\n",
        "helpful_votes_df.show()"
      ],
      "metadata": {
        "colab": {
          "base_uri": "https://localhost:8080/"
        },
        "id": "D8tMZTJEmOhA",
        "outputId": "84c705f9-e2ca-4e8c-819d-bc1471ff62d3"
      },
      "execution_count": 8,
      "outputs": [
        {
          "output_type": "stream",
          "name": "stdout",
          "text": [
            "+-----------+-----------+--------------+----------+--------------+--------------------+----------------+-----------+-------------+-----------+----+-----------------+--------------------+--------------------+-----------+\n",
            "|marketplace|customer_id|     review_id|product_id|product_parent|       product_title|product_category|star_rating|helpful_votes|total_votes|vine|verified_purchase|     review_headline|         review_body|review_date|\n",
            "+-----------+-----------+--------------+----------+--------------+--------------------+----------------+-----------+-------------+-----------+----+-----------------+--------------------+--------------------+-----------+\n",
            "|         US|   31044774|R26CC1STPSUHBS|B01019T6O0|     510976915|Microsoft Windows...|        Software|          1|           27|         39|   N|                N|Do NOT take the \"...|Do NOT take the &...| 2015-08-31|\n",
            "|         US|   51362864| R7K83D59T9KWS|B00ZSI7Y3U|     604043733|Microsoft Windows...|        Software|          1|           16|         26|   N|                N|Works Great As Sp...|I had to uninstal...| 2015-08-30|\n",
            "|         US|   51362864|R2ATG5BPVILHUM|B01019T6O0|     510976915|Microsoft Windows...|        Software|          1|           16|         25|   N|                N|Works Great As Sp...|I had to uninstal...| 2015-08-30|\n",
            "|         US|    8607300|R1Q71TAM5ZOYTK|B01019T6O0|     510976915|Microsoft Windows...|        Software|          3|           57|         61|   N|                N|u dont get a wind...|My windows 7 home...| 2015-08-29|\n",
            "|         US|   36244744| RR8HYI7C2XKMU|B00SXZBLXE|     153819259|Mixcraft Pro Stud...|        Software|          5|           25|         25|   N|                Y|More professional...|This is no baby s...| 2015-08-28|\n",
            "|         US|   43577240|R1VDCSJE4CJJIR|B00VWCKJVA|     688031680|         Lightroom 6|        Software|          1|           88|         97|   N|                Y|      Complete Scam!|I've posted a rev...| 2015-08-27|\n",
            "|         US|   50521412|R2PZMSDKOO1Q6W|B00ZSHDJ4O|     290929234|Microsoft Windows...|        Software|          1|           29|         43|   N|                Y|Microsoft has got...|Microsoft has got...| 2015-08-26|\n",
            "|         US|   48775338|R39OOYN0DOLINK|B01019T6O0|     510976915|Microsoft Windows...|        Software|          3|           91|        111|   N|                N|You can minimize ...|After upgrading (...| 2015-08-25|\n",
            "|         US|   35082889|R1PLNHJZ8BKIBG|B00LX4BZAQ|     484797539|Dragon NaturallyS...|        Software|          1|           44|         46|   N|                Y|False Advertising...|I bought this pro...| 2015-08-25|\n",
            "|         US|   11251916|R3UTVKJF44E0R6|B00ZSHDJ4O|     290929234|Microsoft Windows...|        Software|          1|           46|         69|   N|                N|Way beyond snooping!|Windows 10<br /><...| 2015-08-24|\n",
            "|         US|   50365571|R2CAD5FOVMTR2L|B01019TFVY|     532233604|Microsoft Windows...|        Software|          2|           17|         28|   N|                N|Bad in Any Language.|Windows 10 was de...| 2015-08-23|\n",
            "|         US|   25166029|R2SW9V1EDQH6O7|B000NRY05G|     533940081|Microsoft Windows 95|        Software|          5|           27|         29|   N|                N|Good upgrade over...|I've upgraded to ...| 2015-08-23|\n",
            "|         US|   13162359|R3SI1TZD809Y0T|B010MZ91SO|      29881971|Microsoft Office ...|        Software|          5|           24|         24|   N|                Y|         Great Deal!|The CD was as pro...| 2015-08-21|\n",
            "|         US|   30650271|R2V0VLBRWCMX3I|B00VWCKJVA|     688031680|         Lightroom 6|        Software|          1|          563|        601|   N|                N|Be aware of the s...|Buyer Beware!  I ...| 2015-08-21|\n",
            "|         US|   26256430| R34R79B2P5DJD|B01019T6O0|     510976915|Microsoft Windows...|        Software|          1|           87|        112|   N|                N|  Terrible OS, again|I have been runni...| 2015-08-21|\n",
            "|         US|   17762999| R4D6AQ86X5RQG|B00OM6SKH8|     430638075|DeLorme Street At...|        Software|          1|           22|         26|   N|                N|Don't buy it - he...|If you’re after t...| 2015-08-20|\n",
            "|         US|   35255215|R1BSZ4PB99TN8D|B01019T6O0|     510976915|Microsoft Windows...|        Software|          1|           61|         90|   N|                N|Stay Away From Wi...|Buyer beware!  I ...| 2015-08-20|\n",
            "|         US|   48597156|R1QMF01BDRT2LJ|B00ZSI7Y3U|     604043733|Microsoft Windows...|        Software|          1|           10|         20|   N|                N|Very bad experien...|Very bad experien...| 2015-08-20|\n",
            "|         US|     147523|R2NBUUW79OYBGT|B00H09BB16|     823950285|Windows 7 Home Pr...|        Software|          1|           57|         58|   N|                Y|   PIRATED WINDOWS 7|Sadly after payin...| 2015-08-20|\n",
            "|         US|   19934423|R24OEFISZWTBDJ|B01019TDJ8|     218396039|Microsoft Windows...|        Software|          4|           17|         25|   N|                N|windows 8.1 to 10...|I am a very exper...| 2015-08-19|\n",
            "+-----------+-----------+--------------+----------+--------------+--------------------+----------------+-----------+-------------+-----------+----+-----------------+--------------------+--------------------+-----------+\n",
            "only showing top 20 rows\n",
            "\n"
          ]
        }
      ]
    },
    {
      "cell_type": "code",
      "source": [
        "vine_paid_df = helpful_votes_df.filter(helpful_votes_df.vine == \"Y\")\n",
        "vine_paid_df.show()"
      ],
      "metadata": {
        "colab": {
          "base_uri": "https://localhost:8080/"
        },
        "id": "4bGWOez4nNNq",
        "outputId": "0b4954cd-2cea-445e-da3b-ec84be3be158"
      },
      "execution_count": 9,
      "outputs": [
        {
          "output_type": "stream",
          "name": "stdout",
          "text": [
            "+-----------+-----------+--------------+----------+--------------+--------------------+----------------+-----------+-------------+-----------+----+-----------------+--------------------+--------------------+-----------+\n",
            "|marketplace|customer_id|     review_id|product_id|product_parent|       product_title|product_category|star_rating|helpful_votes|total_votes|vine|verified_purchase|     review_headline|         review_body|review_date|\n",
            "+-----------+-----------+--------------+----------+--------------+--------------------+----------------+-----------+-------------+-----------+----+-----------------+--------------------+--------------------+-----------+\n",
            "|         US|   12051324|R28EIR3Z6RRUNN|B00UV3VCLC|     617825071|Cyberlink PowerDV...|        Software|          2|           50|         60|   Y|                N|Frustrating, but ...|My computer has a...| 2015-06-11|\n",
            "|         US|   50867647|R2YO2RESXZEWOF|B00T0I6J9E|     636727185|        Corel Parent|        Software|          4|           24|         25|   Y|                N|Makes many video ...|It took me awhile...| 2015-04-22|\n",
            "|         US|   52783660| R8GEE2EW3D6S9|B00OMQLNJK|     844039629|Corel Painter Ess...|        Software|          3|           49|         54|   Y|                N|     Has Pros & Cons|Painter Essential...| 2015-03-02|\n",
            "|         US|   40065598|R33W9V1MX6WKPS|B00OMQLNJK|     844039629|Corel Painter Ess...|        Software|          4|           47|         53|   Y|                N|90% cheese 10% aw...|First off, this p...| 2015-02-21|\n",
            "|         US|   52802468|R24E3W2ZRIFG8C|B00OMQLNJK|     844039629|Corel Painter Ess...|        Software|          5|           91|         93|   Y|                N|A seriously funct...|I've wanted to gi...| 2015-02-13|\n",
            "|         US|   52304188|R2OR3KIFFG4YWT|B00MYXTCNC|     917377282|TurboTax Premier ...|        Software|          4|           75|         81|   Y|                Y|Easy install - ea...|I received the 20...| 2015-01-13|\n",
            "|         US|   47098142|R1RLJAAFOA5MMS|B00MYXTCGY|      39020414|TurboTax Deluxe F...|        Software|          2|           25|         27|   Y|                N|Maybe Intuit made...|I've been a TaxCu...| 2014-12-30|\n",
            "|         US|   12385709| RVYHD7IZ7W99B|B00O2KAI2Y|     403190706|Rosetta Stone Kid...|        Software|          1|           78|         78|   Y|                N|There are better ...|After using this ...| 2014-12-12|\n",
            "|         US|   52894480|R12EV95D2T56HA|B00N4OLGL6|     955293140|CyberlinkUltimate...|        Software|          5|           37|         37|   Y|                N|   A big improvement|There are several...| 2014-12-11|\n",
            "|         US|   53053848|R296NVZGV4VZLP|B00NASFCDO|     601037731|Cyberlink PhotoDi...|        Software|          5|           41|         44|   Y|                N|A low-cost, excep...|As an instructor ...| 2014-12-02|\n",
            "|         US|   51391300| RLJPGO3YMKSI6|B00ND0E7FS|     686506638|    HonestechTwister|        Software|          5|           24|         27|   Y|                N|Preserves your pr...|Back when my firs...| 2014-12-01|\n",
            "|         US|   51771760|R33KYYMINUELQA|B00O66FYU0|     796943233|Adobe Creative Cl...|        Software|          2|           23|         23|   Y|                N|Misleading price ...|I have been an av...| 2014-11-30|\n",
            "|         US|   35753769| RNNE1AAL4XU7W|B00ND0E7FS|     686506638|    HonestechTwister|        Software|          4|           60|         64|   Y|                N|A bit confusing a...|This is a nice li...| 2014-11-26|\n",
            "|         US|   53064080| RC38M96UFDOOI|B00MV9ELBM|     974825706|Norton Security w...|        Software|          3|           78|         87|   Y|                N|Solid Norton upda...|Norton Security w...| 2014-11-23|\n",
            "|         US|   15394148| RR9F2YTECN67C|B00ND0E7FS|     686506638|    HonestechTwister|        Software|          5|           35|         37|   Y|                N|Super easy (Mac r...|I have videos of ...| 2014-11-22|\n",
            "|         US|   49698652|R1HB8SSCA97V9U|B00MV9ELBM|     974825706|Norton Security w...|        Software|          5|          100|        105|   Y|                N|Something Good Go...|I have tried seve...| 2014-11-11|\n",
            "|         US|   17481726| RX4E94KN6K16U|B00MUTAY2S|     742495214|McAfee 2015 Total...|        Software|          5|           56|         59|   Y|                N|McAfee Total Prot...|I installed McAfe...| 2014-10-26|\n",
            "|         US|   51407943|R1XLGO18EB3KZA|B00LYYN13O|     784699786|Corel PaintShop P...|        Software|          5|           25|         25|   Y|                N|Easy and fun to u...|PaintShop Pro is ...| 2014-10-24|\n",
            "|         US|   43330348|R1R9XER49EMT2N|B00LX4BZAQ|     484797539|Dragon NaturallyS...|        Software|          2|           34|         35|   Y|                N|Wanted to like it...|I am writing this...| 2014-10-20|\n",
            "|         US|   13946721| R7ST49NTUXZLV|B00LYYMXB0|     499206730|PaintShop Pro X7 ...|        Software|          5|           23|         25|   Y|                N|I'M A CONVERT FRO...|I've been a profe...| 2014-10-12|\n",
            "+-----------+-----------+--------------+----------+--------------+--------------------+----------------+-----------+-------------+-----------+----+-----------------+--------------------+--------------------+-----------+\n",
            "only showing top 20 rows\n",
            "\n"
          ]
        }
      ]
    },
    {
      "cell_type": "code",
      "source": [
        "vine_unpaid_df = helpful_votes_df.filter(helpful_votes_df.vine == \"N\")\n",
        "vine_unpaid_df.show()"
      ],
      "metadata": {
        "colab": {
          "base_uri": "https://localhost:8080/"
        },
        "id": "5_TgvttcoQrn",
        "outputId": "799a71f8-041c-4e0b-cd8a-6008ac4d9d5a"
      },
      "execution_count": 10,
      "outputs": [
        {
          "output_type": "stream",
          "name": "stdout",
          "text": [
            "+-----------+-----------+--------------+----------+--------------+--------------------+----------------+-----------+-------------+-----------+----+-----------------+--------------------+--------------------+-----------+\n",
            "|marketplace|customer_id|     review_id|product_id|product_parent|       product_title|product_category|star_rating|helpful_votes|total_votes|vine|verified_purchase|     review_headline|         review_body|review_date|\n",
            "+-----------+-----------+--------------+----------+--------------+--------------------+----------------+-----------+-------------+-----------+----+-----------------+--------------------+--------------------+-----------+\n",
            "|         US|   31044774|R26CC1STPSUHBS|B01019T6O0|     510976915|Microsoft Windows...|        Software|          1|           27|         39|   N|                N|Do NOT take the \"...|Do NOT take the &...| 2015-08-31|\n",
            "|         US|   51362864| R7K83D59T9KWS|B00ZSI7Y3U|     604043733|Microsoft Windows...|        Software|          1|           16|         26|   N|                N|Works Great As Sp...|I had to uninstal...| 2015-08-30|\n",
            "|         US|   51362864|R2ATG5BPVILHUM|B01019T6O0|     510976915|Microsoft Windows...|        Software|          1|           16|         25|   N|                N|Works Great As Sp...|I had to uninstal...| 2015-08-30|\n",
            "|         US|    8607300|R1Q71TAM5ZOYTK|B01019T6O0|     510976915|Microsoft Windows...|        Software|          3|           57|         61|   N|                N|u dont get a wind...|My windows 7 home...| 2015-08-29|\n",
            "|         US|   36244744| RR8HYI7C2XKMU|B00SXZBLXE|     153819259|Mixcraft Pro Stud...|        Software|          5|           25|         25|   N|                Y|More professional...|This is no baby s...| 2015-08-28|\n",
            "|         US|   43577240|R1VDCSJE4CJJIR|B00VWCKJVA|     688031680|         Lightroom 6|        Software|          1|           88|         97|   N|                Y|      Complete Scam!|I've posted a rev...| 2015-08-27|\n",
            "|         US|   50521412|R2PZMSDKOO1Q6W|B00ZSHDJ4O|     290929234|Microsoft Windows...|        Software|          1|           29|         43|   N|                Y|Microsoft has got...|Microsoft has got...| 2015-08-26|\n",
            "|         US|   48775338|R39OOYN0DOLINK|B01019T6O0|     510976915|Microsoft Windows...|        Software|          3|           91|        111|   N|                N|You can minimize ...|After upgrading (...| 2015-08-25|\n",
            "|         US|   35082889|R1PLNHJZ8BKIBG|B00LX4BZAQ|     484797539|Dragon NaturallyS...|        Software|          1|           44|         46|   N|                Y|False Advertising...|I bought this pro...| 2015-08-25|\n",
            "|         US|   11251916|R3UTVKJF44E0R6|B00ZSHDJ4O|     290929234|Microsoft Windows...|        Software|          1|           46|         69|   N|                N|Way beyond snooping!|Windows 10<br /><...| 2015-08-24|\n",
            "|         US|   50365571|R2CAD5FOVMTR2L|B01019TFVY|     532233604|Microsoft Windows...|        Software|          2|           17|         28|   N|                N|Bad in Any Language.|Windows 10 was de...| 2015-08-23|\n",
            "|         US|   25166029|R2SW9V1EDQH6O7|B000NRY05G|     533940081|Microsoft Windows 95|        Software|          5|           27|         29|   N|                N|Good upgrade over...|I've upgraded to ...| 2015-08-23|\n",
            "|         US|   13162359|R3SI1TZD809Y0T|B010MZ91SO|      29881971|Microsoft Office ...|        Software|          5|           24|         24|   N|                Y|         Great Deal!|The CD was as pro...| 2015-08-21|\n",
            "|         US|   30650271|R2V0VLBRWCMX3I|B00VWCKJVA|     688031680|         Lightroom 6|        Software|          1|          563|        601|   N|                N|Be aware of the s...|Buyer Beware!  I ...| 2015-08-21|\n",
            "|         US|   26256430| R34R79B2P5DJD|B01019T6O0|     510976915|Microsoft Windows...|        Software|          1|           87|        112|   N|                N|  Terrible OS, again|I have been runni...| 2015-08-21|\n",
            "|         US|   17762999| R4D6AQ86X5RQG|B00OM6SKH8|     430638075|DeLorme Street At...|        Software|          1|           22|         26|   N|                N|Don't buy it - he...|If you’re after t...| 2015-08-20|\n",
            "|         US|   35255215|R1BSZ4PB99TN8D|B01019T6O0|     510976915|Microsoft Windows...|        Software|          1|           61|         90|   N|                N|Stay Away From Wi...|Buyer beware!  I ...| 2015-08-20|\n",
            "|         US|   48597156|R1QMF01BDRT2LJ|B00ZSI7Y3U|     604043733|Microsoft Windows...|        Software|          1|           10|         20|   N|                N|Very bad experien...|Very bad experien...| 2015-08-20|\n",
            "|         US|     147523|R2NBUUW79OYBGT|B00H09BB16|     823950285|Windows 7 Home Pr...|        Software|          1|           57|         58|   N|                Y|   PIRATED WINDOWS 7|Sadly after payin...| 2015-08-20|\n",
            "|         US|   19934423|R24OEFISZWTBDJ|B01019TDJ8|     218396039|Microsoft Windows...|        Software|          4|           17|         25|   N|                N|windows 8.1 to 10...|I am a very exper...| 2015-08-19|\n",
            "+-----------+-----------+--------------+----------+--------------+--------------------+----------------+-----------+-------------+-----------+----+-----------------+--------------------+--------------------+-----------+\n",
            "only showing top 20 rows\n",
            "\n"
          ]
        }
      ]
    },
    {
      "cell_type": "code",
      "source": [
        "paid_review = vine_paid_df.count()\n",
        "paid_review"
      ],
      "metadata": {
        "colab": {
          "base_uri": "https://localhost:8080/"
        },
        "id": "kux6nNF8ojGi",
        "outputId": "20e85683-0eaa-4afa-edf6-be2fe483bab7"
      },
      "execution_count": 12,
      "outputs": [
        {
          "output_type": "execute_result",
          "data": {
            "text/plain": [
              "248"
            ]
          },
          "metadata": {},
          "execution_count": 12
        }
      ]
    },
    {
      "cell_type": "code",
      "source": [
        "paid_fs_count = vine_paid_df.filter(vine_paid_df.star_rating == 5).count()\n",
        "paid_fs_count"
      ],
      "metadata": {
        "colab": {
          "base_uri": "https://localhost:8080/"
        },
        "id": "fLR5X-UVpndm",
        "outputId": "03e49758-f33a-4a4b-96b0-fa692a8a37a2"
      },
      "execution_count": 14,
      "outputs": [
        {
          "output_type": "execute_result",
          "data": {
            "text/plain": [
              "102"
            ]
          },
          "metadata": {},
          "execution_count": 14
        }
      ]
    },
    {
      "cell_type": "code",
      "source": [
        "fs_percent = (paid_fs_count/paid_review) *100\n",
        "fs_percent"
      ],
      "metadata": {
        "colab": {
          "base_uri": "https://localhost:8080/"
        },
        "id": "-AFc7BdPpngg",
        "outputId": "47835d7e-ea60-4625-d08a-e1d47a16688f"
      },
      "execution_count": 15,
      "outputs": [
        {
          "output_type": "execute_result",
          "data": {
            "text/plain": [
              "41.12903225806452"
            ]
          },
          "metadata": {},
          "execution_count": 15
        }
      ]
    },
    {
      "cell_type": "code",
      "source": [
        "unpaid_review = vine_unpaid_df.count()\n",
        "unpaid_review"
      ],
      "metadata": {
        "colab": {
          "base_uri": "https://localhost:8080/"
        },
        "id": "kEA92YlRpOw4",
        "outputId": "b72ecfa1-0999-405b-977d-0a763f6ab446"
      },
      "execution_count": 13,
      "outputs": [
        {
          "output_type": "execute_result",
          "data": {
            "text/plain": [
              "17514"
            ]
          },
          "metadata": {},
          "execution_count": 13
        }
      ]
    },
    {
      "cell_type": "code",
      "source": [
        "unpaid_fs_count = vine_unpaid_df.filter(vine_unpaid_df.star_rating ==5).count()\n",
        "unpaid_fs_count"
      ],
      "metadata": {
        "colab": {
          "base_uri": "https://localhost:8080/"
        },
        "id": "D8uJRqNCpcma",
        "outputId": "16b8d95a-69fa-418e-e36b-84a82c03ae84"
      },
      "execution_count": 16,
      "outputs": [
        {
          "output_type": "execute_result",
          "data": {
            "text/plain": [
              "5154"
            ]
          },
          "metadata": {},
          "execution_count": 16
        }
      ]
    },
    {
      "cell_type": "code",
      "source": [
        "unpaid_fs_percent = (unpaid_fs_count/unpaid_review) *100\n",
        "unpaid_fs_percent"
      ],
      "metadata": {
        "colab": {
          "base_uri": "https://localhost:8080/"
        },
        "id": "k6Gt1j9rqyZc",
        "outputId": "d68c2f02-f66a-4d9f-c0e5-144ddb76fc0c"
      },
      "execution_count": 17,
      "outputs": [
        {
          "output_type": "execute_result",
          "data": {
            "text/plain": [
              "29.427886262418635"
            ]
          },
          "metadata": {},
          "execution_count": 17
        }
      ]
    },
    {
      "cell_type": "code",
      "source": [
        ""
      ],
      "metadata": {
        "id": "CeFfapR5rE6u"
      },
      "execution_count": null,
      "outputs": []
    }
  ]
}